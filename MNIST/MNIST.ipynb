{
  "nbformat": 4,
  "nbformat_minor": 0,
  "metadata": {
    "colab": {
      "name": "MNIST.ipynb",
      "provenance": []
    },
    "kernelspec": {
      "name": "python3",
      "display_name": "Python 3"
    },
    "language_info": {
      "name": "python"
    },
    "accelerator": "GPU"
  },
  "cells": [
    {
      "cell_type": "markdown",
      "source": [
        "###TESTING OUT THE MNIST DATASET (KAGGLE)"
      ],
      "metadata": {
        "id": "b5b1Kj3gUfiV"
      }
    },
    {
      "cell_type": "code",
      "execution_count": null,
      "metadata": {
        "id": "WosTTjvsUd49"
      },
      "outputs": [],
      "source": [
        "import tensorflow as tf\n",
        "import numpy as np"
      ]
    },
    {
      "cell_type": "code",
      "source": [
        "from tensorflow import keras\n",
        "import pandas as pd"
      ],
      "metadata": {
        "id": "Gccox-k-UqDp"
      },
      "execution_count": null,
      "outputs": []
    },
    {
      "cell_type": "code",
      "source": [
        "(X_train, Y_train), (_, _) = tf.keras.datasets.mnist.load_data()"
      ],
      "metadata": {
        "id": "vz2RklwdWNfJ",
        "colab": {
          "base_uri": "https://localhost:8080/"
        },
        "outputId": "c2652004-5883-447b-a1ac-9ef6e1c136ff"
      },
      "execution_count": null,
      "outputs": [
        {
          "output_type": "stream",
          "name": "stdout",
          "text": [
            "Downloading data from https://storage.googleapis.com/tensorflow/tf-keras-datasets/mnist.npz\n",
            "11493376/11490434 [==============================] - 0s 0us/step\n",
            "11501568/11490434 [==============================] - 0s 0us/step\n"
          ]
        }
      ]
    },
    {
      "cell_type": "code",
      "source": [
        "test_data = pd.read_csv(\"/content/sample_data/test.csv\")"
      ],
      "metadata": {
        "id": "oH6Ty4469lu_"
      },
      "execution_count": null,
      "outputs": []
    },
    {
      "cell_type": "code",
      "source": [
        "X_test = test_data.values\n",
        "\n",
        "print(\"X_train shape: {0}\".format(X_train.shape))\n",
        "print(\"Y_train shape: {0} \".format(Y_train.shape))\n",
        "print(\"X_test shape: {0}\".format(X_test.shape))"
      ],
      "metadata": {
        "colab": {
          "base_uri": "https://localhost:8080/"
        },
        "id": "jDb5POicZtyH",
        "outputId": "b678a867-163e-4fd7-da3d-ab2ae1d3a855"
      },
      "execution_count": null,
      "outputs": [
        {
          "output_type": "stream",
          "name": "stdout",
          "text": [
            "X_train shape: (60000, 28, 28)\n",
            "Y_train shape: (60000,) \n",
            "X_test shape: (28000, 784)\n"
          ]
        }
      ]
    },
    {
      "cell_type": "code",
      "source": [
        "def normalize_data(data):\n",
        "  return data / 255.0"
      ],
      "metadata": {
        "id": "gsNFWyYSaAX0"
      },
      "execution_count": null,
      "outputs": []
    },
    {
      "cell_type": "code",
      "source": [
        "X_train = normalize_data(X_train)\n",
        "X_test = normalize_data(X_test)\n",
        "\n",
        "print(\"Maximum values in training set: {0}\".format(np.max(X_train)))\n",
        "print(\"Maximum values in test set: {0}\".format(np.max(X_test)))"
      ],
      "metadata": {
        "colab": {
          "base_uri": "https://localhost:8080/"
        },
        "id": "i-OS9qOJabXA",
        "outputId": "426f7e67-cd2b-42d5-bc21-8884da6dab2a"
      },
      "execution_count": null,
      "outputs": [
        {
          "output_type": "stream",
          "name": "stdout",
          "text": [
            "Maximum values in training set: 1.0\n",
            "Maximum values in test set: 1.0\n"
          ]
        }
      ]
    },
    {
      "cell_type": "code",
      "source": [
        "X_train = np.reshape(X_train, (X_train.shape[0], 28, 28, 1))\n",
        "X_test = np.reshape(X_test, (X_test.shape[0], 28, 28, 1))"
      ],
      "metadata": {
        "id": "i1ytIdm8cYVN"
      },
      "execution_count": null,
      "outputs": []
    },
    {
      "cell_type": "markdown",
      "source": [
        "Do not normalize data anymore!!!"
      ],
      "metadata": {
        "id": "xIq8lFWTa3Ju"
      }
    },
    {
      "cell_type": "markdown",
      "source": [
        "###Neural Network"
      ],
      "metadata": {
        "id": "_Dacq3Vna95u"
      }
    },
    {
      "cell_type": "code",
      "source": [
        "class EarlyStoppingAtMinLoss(keras.callbacks.Callback):\n",
        "  def __init__(self, patience=0):\n",
        "    super(EarlyStoppingAtMinLoss, self).__init__()\n",
        "    self.patience = patience\n",
        "    self.best_weights = None\n",
        "\n",
        "  def on_train_begin(self, logs=None):\n",
        "    self.wait = 0\n",
        "    self.stopped_epoch = 0\n",
        "    self.best = np.Inf\n",
        "\n",
        "  def on_epoch_end(self, epoch, logs=None):\n",
        "    current = logs.get(\"loss\")\n",
        "    if np.less(current, self.best):\n",
        "      self.best = current\n",
        "      self.wait = 0\n",
        "      self.best_weights = self.model.get_weights()\n",
        "    else:\n",
        "      self.wait += 1\n",
        "      if self.wait >= self.patience:\n",
        "        self.stopped_epoch = epoch\n",
        "        self.model.stop_training = True\n",
        "        print(\"Restoring model weights from the end of the best epoch.\")\n",
        "        self.model.set_weights(self.best_weights)\n",
        "\n",
        "  def on_train_end(self, logs=None):\n",
        "    if self.stopped_epoch > 0:\n",
        "      print(\"Epoch %05d: early stopping\" % (self.stopped_epoch + 1))"
      ],
      "metadata": {
        "id": "1p6-IZ2jrFsz"
      },
      "execution_count": null,
      "outputs": []
    },
    {
      "cell_type": "code",
      "source": [
        "num_labels = int(np.max(Y_train + 1))\n",
        "\n",
        "nn_model = keras.Sequential([\n",
        "    keras.layers.Conv2D(32, (3,3), activation='relu', input_shape=(28, 28, 1)),\n",
        "    keras.layers.BatchNormalization(),\n",
        "    keras.layers.Conv2D(32, (3,3), activation='relu'),\n",
        "    keras.layers.BatchNormalization(),\n",
        "    keras.layers.Conv2D(32, (5,5), strides=2, padding='same', activation='relu'),\n",
        "    keras.layers.BatchNormalization(),\n",
        "    keras.layers.Dropout(0.4),\n",
        "\n",
        "    keras.layers.Conv2D(64, (3,3), activation='relu'),\n",
        "    keras.layers.BatchNormalization(),\n",
        "    keras.layers.Conv2D(64, (3,3), activation='relu'),\n",
        "    keras.layers.BatchNormalization(),\n",
        "    keras.layers.Conv2D(64, (5,5), strides=2, padding='same', activation='relu'),\n",
        "    keras.layers.BatchNormalization(),\n",
        "    keras.layers.Dropout(0.4),\n",
        "\n",
        "    keras.layers.Flatten(),\n",
        "    keras.layers.BatchNormalization(),\n",
        "    keras.layers.Dense(256, activation='relu'),\n",
        "    keras.layers.BatchNormalization(),\n",
        "    keras.layers.Dropout(0.4),\n",
        "    keras.layers.Dense(num_labels, activation='softmax')\n",
        "])\n",
        "\n",
        "nn_model.summary()\n",
        "\n",
        "nn_model.compile(optimizer=tf.keras.optimizers.Adamax(learning_rate=lr_schedule),\n",
        "                 loss='sparse_categorical_crossentropy',\n",
        "                 metrics=['accuracy'])"
      ],
      "metadata": {
        "colab": {
          "base_uri": "https://localhost:8080/"
        },
        "id": "3w0lRbRFarYw",
        "outputId": "ef9f24ba-ccb9-45c5-ab34-41312034357a"
      },
      "execution_count": null,
      "outputs": [
        {
          "output_type": "stream",
          "name": "stdout",
          "text": [
            "Model: \"sequential_9\"\n",
            "_________________________________________________________________\n",
            " Layer (type)                Output Shape              Param #   \n",
            "=================================================================\n",
            " conv2d_48 (Conv2D)          (None, 26, 26, 32)        320       \n",
            "                                                                 \n",
            " batch_normalization_66 (Bat  (None, 26, 26, 32)       128       \n",
            " chNormalization)                                                \n",
            "                                                                 \n",
            " conv2d_49 (Conv2D)          (None, 24, 24, 32)        9248      \n",
            "                                                                 \n",
            " batch_normalization_67 (Bat  (None, 24, 24, 32)       128       \n",
            " chNormalization)                                                \n",
            "                                                                 \n",
            " conv2d_50 (Conv2D)          (None, 12, 12, 32)        25632     \n",
            "                                                                 \n",
            " batch_normalization_68 (Bat  (None, 12, 12, 32)       128       \n",
            " chNormalization)                                                \n",
            "                                                                 \n",
            " dropout_18 (Dropout)        (None, 12, 12, 32)        0         \n",
            "                                                                 \n",
            " conv2d_51 (Conv2D)          (None, 10, 10, 64)        18496     \n",
            "                                                                 \n",
            " batch_normalization_69 (Bat  (None, 10, 10, 64)       256       \n",
            " chNormalization)                                                \n",
            "                                                                 \n",
            " conv2d_52 (Conv2D)          (None, 8, 8, 64)          36928     \n",
            "                                                                 \n",
            " batch_normalization_70 (Bat  (None, 8, 8, 64)         256       \n",
            " chNormalization)                                                \n",
            "                                                                 \n",
            " conv2d_53 (Conv2D)          (None, 4, 4, 64)          102464    \n",
            "                                                                 \n",
            " batch_normalization_71 (Bat  (None, 4, 4, 64)         256       \n",
            " chNormalization)                                                \n",
            "                                                                 \n",
            " dropout_19 (Dropout)        (None, 4, 4, 64)          0         \n",
            "                                                                 \n",
            " flatten_9 (Flatten)         (None, 1024)              0         \n",
            "                                                                 \n",
            " batch_normalization_72 (Bat  (None, 1024)             4096      \n",
            " chNormalization)                                                \n",
            "                                                                 \n",
            " dense_18 (Dense)            (None, 256)               262400    \n",
            "                                                                 \n",
            " batch_normalization_73 (Bat  (None, 256)              1024      \n",
            " chNormalization)                                                \n",
            "                                                                 \n",
            " dropout_20 (Dropout)        (None, 256)               0         \n",
            "                                                                 \n",
            " dense_19 (Dense)            (None, 10)                2570      \n",
            "                                                                 \n",
            "=================================================================\n",
            "Total params: 464,330\n",
            "Trainable params: 461,194\n",
            "Non-trainable params: 3,136\n",
            "_________________________________________________________________\n"
          ]
        }
      ]
    },
    {
      "cell_type": "code",
      "source": [
        "initial_learning_rate = 0.1\n",
        "lr_schedule = tf.keras.optimizers.schedules.ExponentialDecay(\n",
        "    initial_learning_rate,\n",
        "    decay_steps=100000,\n",
        "    decay_rate=0.96,\n",
        "    staircase=True)"
      ],
      "metadata": {
        "id": "saatu6zdkVmQ"
      },
      "execution_count": null,
      "outputs": []
    },
    {
      "cell_type": "code",
      "source": [
        "hist = nn_model.fit(x=X_train, y=Y_train, epochs=30, batch_size=64)"
      ],
      "metadata": {
        "colab": {
          "base_uri": "https://localhost:8080/"
        },
        "id": "qFw9Xg-GduBP",
        "outputId": "875f4299-5b00-400f-f17b-1b297c06f34b"
      },
      "execution_count": null,
      "outputs": [
        {
          "output_type": "stream",
          "name": "stdout",
          "text": [
            "Epoch 1/30\n",
            "938/938 [==============================] - 48s 8ms/step - loss: 0.2813 - accuracy: 0.9233\n",
            "Epoch 2/30\n",
            "938/938 [==============================] - 7s 8ms/step - loss: 0.1367 - accuracy: 0.9618\n",
            "Epoch 3/30\n",
            "938/938 [==============================] - 7s 8ms/step - loss: 0.1176 - accuracy: 0.9678\n",
            "Epoch 4/30\n",
            "938/938 [==============================] - 7s 8ms/step - loss: 0.1046 - accuracy: 0.9718\n",
            "Epoch 5/30\n",
            "938/938 [==============================] - 8s 8ms/step - loss: 0.0906 - accuracy: 0.9762\n",
            "Epoch 6/30\n",
            "938/938 [==============================] - 8s 8ms/step - loss: 0.0829 - accuracy: 0.9786\n",
            "Epoch 7/30\n",
            "938/938 [==============================] - 8s 8ms/step - loss: 0.0769 - accuracy: 0.9805\n",
            "Epoch 8/30\n",
            "938/938 [==============================] - 7s 8ms/step - loss: 0.0653 - accuracy: 0.9830\n",
            "Epoch 9/30\n",
            "938/938 [==============================] - 7s 8ms/step - loss: 0.0653 - accuracy: 0.9832\n",
            "Epoch 10/30\n",
            "938/938 [==============================] - 7s 8ms/step - loss: 0.0597 - accuracy: 0.9854\n",
            "Epoch 11/30\n",
            "938/938 [==============================] - 7s 8ms/step - loss: 0.0593 - accuracy: 0.9863\n",
            "Epoch 12/30\n",
            "938/938 [==============================] - 7s 8ms/step - loss: 0.0530 - accuracy: 0.9875\n",
            "Epoch 13/30\n",
            "938/938 [==============================] - 7s 8ms/step - loss: 0.0496 - accuracy: 0.9885\n",
            "Epoch 14/30\n",
            "938/938 [==============================] - 7s 8ms/step - loss: 0.0510 - accuracy: 0.9883\n",
            "Epoch 15/30\n",
            "938/938 [==============================] - 7s 8ms/step - loss: 0.0481 - accuracy: 0.9890\n",
            "Epoch 16/30\n",
            "938/938 [==============================] - 7s 8ms/step - loss: 0.0511 - accuracy: 0.9885\n",
            "Epoch 17/30\n",
            "938/938 [==============================] - 7s 8ms/step - loss: 0.0452 - accuracy: 0.9900\n",
            "Epoch 18/30\n",
            "938/938 [==============================] - 7s 8ms/step - loss: 0.0426 - accuracy: 0.9902\n",
            "Epoch 19/30\n",
            "938/938 [==============================] - 7s 8ms/step - loss: 0.0436 - accuracy: 0.9901\n",
            "Epoch 20/30\n",
            "938/938 [==============================] - 7s 8ms/step - loss: 0.0445 - accuracy: 0.9901\n",
            "Epoch 21/30\n",
            "938/938 [==============================] - 7s 8ms/step - loss: 0.0382 - accuracy: 0.9914\n",
            "Epoch 22/30\n",
            "938/938 [==============================] - 7s 8ms/step - loss: 0.0420 - accuracy: 0.9908\n",
            "Epoch 23/30\n",
            "938/938 [==============================] - 7s 8ms/step - loss: 0.0388 - accuracy: 0.9916\n",
            "Epoch 24/30\n",
            "938/938 [==============================] - 7s 8ms/step - loss: 0.0385 - accuracy: 0.9919\n",
            "Epoch 25/30\n",
            "938/938 [==============================] - 7s 8ms/step - loss: 0.0361 - accuracy: 0.9923\n",
            "Epoch 26/30\n",
            "938/938 [==============================] - 7s 8ms/step - loss: 0.0405 - accuracy: 0.9923\n",
            "Epoch 27/30\n",
            "938/938 [==============================] - 7s 8ms/step - loss: 0.0363 - accuracy: 0.9922\n",
            "Epoch 28/30\n",
            "938/938 [==============================] - 7s 8ms/step - loss: 0.0379 - accuracy: 0.9923\n",
            "Epoch 29/30\n",
            "938/938 [==============================] - 7s 8ms/step - loss: 0.0340 - accuracy: 0.9931\n",
            "Epoch 30/30\n",
            "938/938 [==============================] - 7s 8ms/step - loss: 0.0334 - accuracy: 0.9933\n"
          ]
        }
      ]
    },
    {
      "cell_type": "code",
      "source": [
        "Y_predict = nn_model.predict(X_test)\n",
        "Y_classes = np.argmax(Y_predict, axis=1)"
      ],
      "metadata": {
        "id": "IPP3S5dpeef7"
      },
      "execution_count": null,
      "outputs": []
    },
    {
      "cell_type": "code",
      "source": [
        "Y_classes"
      ],
      "metadata": {
        "id": "FLONh-jsgzqu",
        "colab": {
          "base_uri": "https://localhost:8080/"
        },
        "outputId": "a929c5f3-7200-439f-f5cd-bf3b6caf2053"
      },
      "execution_count": null,
      "outputs": [
        {
          "output_type": "execute_result",
          "data": {
            "text/plain": [
              "array([2, 0, 9, ..., 3, 9, 2])"
            ]
          },
          "metadata": {},
          "execution_count": 52
        }
      ]
    },
    {
      "cell_type": "code",
      "source": [
        "submission = pd.DataFrame({\"ImageId\": list(range(1, len(Y_classes) + 1)),\n",
        "                           \"Label\": Y_classes})"
      ],
      "metadata": {
        "id": "nrCdimnfnMIt"
      },
      "execution_count": null,
      "outputs": []
    },
    {
      "cell_type": "code",
      "source": [
        "submission.to_csv(\"/content/sample_data/cnn_submission.csv\", index=False, header=True)"
      ],
      "metadata": {
        "id": "FXJT5r_xnXQl"
      },
      "execution_count": null,
      "outputs": []
    }
  ]
}